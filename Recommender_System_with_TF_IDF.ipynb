{
  "nbformat": 4,
  "nbformat_minor": 0,
  "metadata": {
    "colab": {
      "provenance": [],
      "authorship_tag": "ABX9TyN98zmXs4eK7T8LSq5tf99R",
      "include_colab_link": true
    },
    "kernelspec": {
      "name": "python3",
      "display_name": "Python 3"
    },
    "language_info": {
      "name": "python"
    }
  },
  "cells": [
    {
      "cell_type": "markdown",
      "metadata": {
        "id": "view-in-github",
        "colab_type": "text"
      },
      "source": [
        "<a href=\"https://colab.research.google.com/github/sarankumar1325/NLP-BASICS/blob/main/Recommender_System_with_TF_IDF.ipynb\" target=\"_parent\"><img src=\"https://colab.research.google.com/assets/colab-badge.svg\" alt=\"Open In Colab\"/></a>"
      ]
    },
    {
      "cell_type": "code",
      "execution_count": null,
      "metadata": {
        "colab": {
          "base_uri": "https://localhost:8080/"
        },
        "id": "kribEQzpY-ro",
        "outputId": "c6dfaeb0-0218-45e9-d4e9-4ada7df4e178"
      },
      "outputs": [
        {
          "output_type": "stream",
          "name": "stdout",
          "text": [
            "--2025-06-23 10:46:05--  https://lazyprogrammer.me/course_files/nlp/tmdb_5000_movies.csv\n",
            "Resolving lazyprogrammer.me (lazyprogrammer.me)... 172.67.213.166, 104.21.23.210, 2606:4700:3031::6815:17d2, ...\n",
            "Connecting to lazyprogrammer.me (lazyprogrammer.me)|172.67.213.166|:443... connected.\n",
            "HTTP request sent, awaiting response... 200 OK\n",
            "Length: 5698602 (5.4M) [text/csv]\n",
            "Saving to: ‘tmdb_5000_movies.csv’\n",
            "\n",
            "tmdb_5000_movies.cs 100%[===================>]   5.43M  12.9MB/s    in 0.4s    \n",
            "\n",
            "2025-06-23 10:46:05 (12.9 MB/s) - ‘tmdb_5000_movies.csv’ saved [5698602/5698602]\n",
            "\n"
          ]
        }
      ],
      "source": [
        "# Step 1: Download the dataset\n",
        "!wget https://lazyprogrammer.me/course_files/nlp/tmdb_5000_movies.csv"
      ]
    },
    {
      "cell_type": "code",
      "source": [
        "# Step 2: Imports\n",
        "import pandas as pd\n",
        "import matplotlib.pyplot as plt\n",
        "import json"
      ],
      "metadata": {
        "id": "QvgSn3o_ZSHi"
      },
      "execution_count": null,
      "outputs": []
    },
    {
      "cell_type": "code",
      "source": [
        "from sklearn.feature_extraction.text import TfidfVectorizer\n",
        "from sklearn.metrics.pairwise import cosine_similarity"
      ],
      "metadata": {
        "id": "IDVW1X3SZUfp"
      },
      "execution_count": null,
      "outputs": []
    },
    {
      "cell_type": "code",
      "source": [
        "# Step 3: Load the CSV file\n",
        "df = pd.read_csv('tmdb_5000_movies.csv')\n"
      ],
      "metadata": {
        "id": "xXYGAA9dZWdw"
      },
      "execution_count": null,
      "outputs": []
    },
    {
      "cell_type": "code",
      "source": [
        "# Step 4: Parse genres and keywords from JSON\n",
        "def parse_features(s):\n",
        "    try:\n",
        "        J = json.loads(s)\n",
        "        return \" \".join([\"\".join(item['name'].split()) for item in J])\n",
        "    except:\n",
        "        return \"\""
      ],
      "metadata": {
        "id": "wPYvGLyIZYgX"
      },
      "execution_count": null,
      "outputs": []
    },
    {
      "cell_type": "code",
      "source": [
        "# Step 5: Combine genres and keywords into one string\n",
        "def genres_keywords_to_string(row):\n",
        "    genres = parse_features(row['genres'])\n",
        "    keywords = parse_features(row['keywords'])\n",
        "    return genres + \" \" + keywords\n",
        "\n",
        "df['string'] = df.apply(genres_keywords_to_string, axis=1)"
      ],
      "metadata": {
        "id": "ZWM7TrpIZaRK"
      },
      "execution_count": null,
      "outputs": []
    },
    {
      "cell_type": "code",
      "source": [
        "# Step 6: TF-IDF Vectorization\n",
        "tfidf = TfidfVectorizer(max_features=2000)\n",
        "X = tfidf.fit_transform(df['string'])"
      ],
      "metadata": {
        "id": "lur5-C7GZcSl"
      },
      "execution_count": null,
      "outputs": []
    },
    {
      "cell_type": "code",
      "source": [
        "# Step 7: Create index mapping from title to row number\n",
        "movie_to_idx = pd.Series(df.index, index=df['title'])"
      ],
      "metadata": {
        "id": "S1Ndo-DHZeNZ"
      },
      "execution_count": null,
      "outputs": []
    },
    {
      "cell_type": "code",
      "source": [
        "def recommend(title):\n",
        "    idx = movie_to_idx[title]\n",
        "    if isinstance(idx, pd.Series):\n",
        "        idx = idx.iloc[0]\n",
        "\n",
        "    query = X[idx]\n",
        "    scores = cosine_similarity(query, X).flatten()\n",
        "    sorted_indices = scores.argsort()[::-1]\n",
        "    recommended_idx = sorted_indices[1:6]\n",
        "    return df.iloc[recommended_idx][['title']]"
      ],
      "metadata": {
        "id": "4yMtoRhWZgVm"
      },
      "execution_count": null,
      "outputs": []
    },
    {
      "cell_type": "code",
      "source": [
        "# Step 9: Test the recommender\n",
        "print(\"Recommendations for 'Scream 3':\")\n",
        "print(recommend(\"Scream 3\"))"
      ],
      "metadata": {
        "colab": {
          "base_uri": "https://localhost:8080/"
        },
        "id": "lBEg_inbZiy0",
        "outputId": "67c9309d-bb31-48a3-9ac1-6dc23966867e"
      },
      "execution_count": null,
      "outputs": [
        {
          "output_type": "stream",
          "name": "stdout",
          "text": [
            "Recommendations for 'Scream 3':\n",
            "                                     title\n",
            "3902  Friday the 13th Part VI: Jason Lives\n",
            "4628                        Graduation Day\n",
            "4053      Friday the 13th: A New Beginning\n",
            "4048                           The Calling\n",
            "1084                       The Glimmer Man\n"
          ]
        }
      ]
    },
    {
      "cell_type": "code",
      "source": [
        "print(\"\\nRecommendations for 'Mortal Kombat':\")\n",
        "print(recommend(\"Mortal Kombat\"))\n"
      ],
      "metadata": {
        "colab": {
          "base_uri": "https://localhost:8080/"
        },
        "id": "YZNL9ks2ZkmF",
        "outputId": "c5f3c7fd-2af1-4ace-be04-5c9dae317a9c"
      },
      "execution_count": null,
      "outputs": [
        {
          "output_type": "stream",
          "name": "stdout",
          "text": [
            "\n",
            "Recommendations for 'Mortal Kombat':\n",
            "                                      title\n",
            "1611            Mortal Kombat: Annihilation\n",
            "1670                     DOA: Dead or Alive\n",
            "3856            In the Name of the King III\n",
            "1001  Street Fighter: The Legend of Chun-Li\n",
            "2237                      Alone in the Dark\n"
          ]
        }
      ]
    },
    {
      "cell_type": "code",
      "source": [
        "print(\"\\nRecommendations for 'Runaway Bride':\")\n",
        "print(recommend(\"Runaway Bride\"))"
      ],
      "metadata": {
        "id": "0nckYKfWZnOZ",
        "outputId": "3b9b219b-3fcd-49f7-9a65-3c149c8d54d0",
        "colab": {
          "base_uri": "https://localhost:8080/"
        }
      },
      "execution_count": null,
      "outputs": [
        {
          "output_type": "stream",
          "name": "stdout",
          "text": [
            "\n",
            "Recommendations for 'Runaway Bride':\n",
            "                           title\n",
            "4115                  House of D\n",
            "2325  My Big Fat Greek Wedding 2\n",
            "3313                An Education\n",
            "4604       It Happened One Night\n",
            "2689          Our Family Wedding\n"
          ]
        }
      ]
    }
  ]
}